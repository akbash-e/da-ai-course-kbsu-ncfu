{
  "nbformat": 4,
  "nbformat_minor": 0,
  "metadata": {
    "colab": {
      "provenance": []
    },
    "kernelspec": {
      "name": "python3",
      "display_name": "Python 3"
    },
    "language_info": {
      "name": "python"
    }
  },
  "cells": [
    {
      "cell_type": "markdown",
      "source": [
        "[![Open In Colab](https://colab.research.google.com/assets/colab-badge.svg)](https://colab.research.google.com/github/akbash-e/da-ai-course-kbsu-ncfu/blob/main/2024-fall/seminar2/Dataset_Preparation_Tasks.ipynb)"
      ],
      "metadata": {
        "id": "7nn8bYFOfWCn"
      }
    },
    {
      "cell_type": "markdown",
      "source": [
        "# Задание 1. Подготовка датасета вакансий\n"
      ],
      "metadata": {
        "id": "jtuIvRhlNtJx"
      }
    },
    {
      "cell_type": "markdown",
      "source": [
        "Вам предлагается подготовить датасет с Data-* вакансиями к анализу"
      ],
      "metadata": {
        "id": "UZcsoDLpNt_X"
      }
    },
    {
      "cell_type": "code",
      "execution_count": null,
      "metadata": {
        "id": "lsNltAgU_wYo"
      },
      "outputs": [],
      "source": [
        "import numpy as np\n",
        "import pandas as pd\n",
        "from ast import literal_eval\n",
        "\n",
        "pd.set_option(\"display.precision\", 2)\n",
        "pd.options.mode.copy_on_write = True"
      ]
    },
    {
      "cell_type": "code",
      "source": [
        "DATA_URL = \"https://raw.githubusercontent.com/akbash-e/da-ai-course-kbsu-ncfu/main/data/\""
      ],
      "metadata": {
        "id": "5o5yM-6sPTUv"
      },
      "execution_count": null,
      "outputs": []
    },
    {
      "cell_type": "code",
      "source": [
        "data = pd.read_csv(DATA_URL + \"data-vacancies.csv\")\n",
        "data.head()"
      ],
      "metadata": {
        "id": "qHqEIMAdPWLt"
      },
      "execution_count": null,
      "outputs": []
    },
    {
      "cell_type": "markdown",
      "source": [
        "1. Выведите первые 5 строк датасета. Примените к датасету методы `info` и `describe`."
      ],
      "metadata": {
        "id": "QexBsBRsPgdK"
      }
    },
    {
      "cell_type": "code",
      "source": [
        "# пишите код здесь"
      ],
      "metadata": {
        "id": "-pxQ0BYyPnp1"
      },
      "execution_count": null,
      "outputs": []
    },
    {
      "cell_type": "markdown",
      "source": [
        "2. Сколько в датасете строк и столбцов?"
      ],
      "metadata": {
        "id": "ByouFcdTPrD9"
      }
    },
    {
      "cell_type": "code",
      "source": [
        "# пишите код здесь"
      ],
      "metadata": {
        "id": "gL5ta9TCPr08"
      },
      "execution_count": null,
      "outputs": []
    },
    {
      "cell_type": "markdown",
      "source": [
        "3. Есть ли в датасете пропуски?"
      ],
      "metadata": {
        "id": "5DqQQGQ-PsNM"
      }
    },
    {
      "cell_type": "code",
      "source": [
        "# пишите код здесь"
      ],
      "metadata": {
        "id": "PUdhAyiyPvsI"
      },
      "execution_count": null,
      "outputs": []
    },
    {
      "cell_type": "markdown",
      "source": [
        "4. Есть в датасете полные дубли? Если да, удалите их."
      ],
      "metadata": {
        "id": "SZfTk8MePx_q"
      }
    },
    {
      "cell_type": "code",
      "source": [
        "# пишите код здесь"
      ],
      "metadata": {
        "id": "v7Xa1KD9Pyxe"
      },
      "execution_count": null,
      "outputs": []
    },
    {
      "cell_type": "markdown",
      "source": [
        "5. Какие валюты (ключ `currency` в поле `salary`) используются для заработной платы? Создайте столбец `currency`."
      ],
      "metadata": {
        "id": "-wQtJylFQBuJ"
      }
    },
    {
      "cell_type": "code",
      "source": [
        "# пишите код здесь"
      ],
      "metadata": {
        "id": "OkqEsWcsQC6s"
      },
      "execution_count": null,
      "outputs": []
    },
    {
      "cell_type": "markdown",
      "source": [
        "6. Создайте столбец `salary_num`. Рассчитайте его, используя столбец `salary`. Если в это столбце указана вилка зарплаты, используйте среднее значение между `from` и `to`."
      ],
      "metadata": {
        "id": "TN8EM3y9Qnu4"
      }
    },
    {
      "cell_type": "code",
      "source": [
        "# пишите код здесь"
      ],
      "metadata": {
        "id": "WGTNhQbnQoj8"
      },
      "execution_count": null,
      "outputs": []
    },
    {
      "cell_type": "markdown",
      "source": [
        "7. Создайте столбец `is_python_requirement`, который принимает значение `1`, если в `key_skills` присутствует `python` (учитывайте написание в любом регистре).  Какой процент вакансий требует знания python?"
      ],
      "metadata": {
        "id": "9AfrvcZ3QrA0"
      }
    },
    {
      "cell_type": "code",
      "source": [
        "# пишите код здесь"
      ],
      "metadata": {
        "id": "z4bZLqNxQryn"
      },
      "execution_count": null,
      "outputs": []
    },
    {
      "cell_type": "markdown",
      "source": [
        "# Задание 2. Подготовка датасета магазина"
      ],
      "metadata": {
        "id": "8bVav9sARPzr"
      }
    },
    {
      "cell_type": "markdown",
      "source": [
        "Вам предлагается подготовить датасет с товарами магазина к анализу"
      ],
      "metadata": {
        "id": "ElCMS9OETe9Q"
      }
    },
    {
      "cell_type": "code",
      "source": [
        "data = pd.read_csv(DATA_URL + \"store-items.csv\")\n",
        "data.head()"
      ],
      "metadata": {
        "id": "43gvmJR2Srsl"
      },
      "execution_count": null,
      "outputs": []
    },
    {
      "cell_type": "markdown",
      "source": [
        "1. Выведите первые 5 строк датасета. Примените к датасету методы `info` и `describe`"
      ],
      "metadata": {
        "id": "yR_QfWjQR013"
      }
    },
    {
      "cell_type": "code",
      "source": [
        "# пишите код здесь"
      ],
      "metadata": {
        "id": "34H6ku-VRzEP"
      },
      "execution_count": null,
      "outputs": []
    },
    {
      "cell_type": "markdown",
      "source": [
        "2. Сколько в датасете строк и столбцов?"
      ],
      "metadata": {
        "id": "PxHY7cMwR6hz"
      }
    },
    {
      "cell_type": "code",
      "source": [
        "# пишите код здесь"
      ],
      "metadata": {
        "id": "PtOecHS2R6un"
      },
      "execution_count": null,
      "outputs": []
    },
    {
      "cell_type": "markdown",
      "source": [
        "3. Есть ли в датасете пропуски?"
      ],
      "metadata": {
        "id": "_4pC5vMaR8Cb"
      }
    },
    {
      "cell_type": "code",
      "source": [
        "# пишите код здесь"
      ],
      "metadata": {
        "id": "m6LJAzDLR8Pl"
      },
      "execution_count": null,
      "outputs": []
    },
    {
      "cell_type": "markdown",
      "source": [
        "4. Есть в датасете полные дубли? Если да, удалите их."
      ],
      "metadata": {
        "id": "P9ZqTHoSR-tT"
      }
    },
    {
      "cell_type": "code",
      "source": [
        "# пишите код здесь"
      ],
      "metadata": {
        "id": "M-tbhZGGR-4P"
      },
      "execution_count": null,
      "outputs": []
    },
    {
      "cell_type": "markdown",
      "source": [
        "5. Используя `pd.to_datetime`, приведите столбец `month_year` к дате."
      ],
      "metadata": {
        "id": "1pB97i2ZSDk-"
      }
    },
    {
      "cell_type": "code",
      "source": [
        "# пишите код здесь"
      ],
      "metadata": {
        "id": "GNUdfwRqSD9r"
      },
      "execution_count": null,
      "outputs": []
    },
    {
      "cell_type": "markdown",
      "source": [
        "6. Создайте столбцы `year` и `month`."
      ],
      "metadata": {
        "id": "Ym34qKXySHsS"
      }
    },
    {
      "cell_type": "code",
      "source": [
        "# пишите код здесь"
      ],
      "metadata": {
        "id": "jg_-Nyq3SH7_"
      },
      "execution_count": null,
      "outputs": []
    },
    {
      "cell_type": "markdown",
      "source": [
        "7. Создайте столбец `category_median_price`, который будет содержать медианную цену категории (у строк с одним значением `product_category_name`) будет одно значение этого столбца."
      ],
      "metadata": {
        "id": "_MxWXkApSPqp"
      }
    },
    {
      "cell_type": "code",
      "source": [
        "# пишите код здесь"
      ],
      "metadata": {
        "id": "UeUmvvs4SQyh"
      },
      "execution_count": null,
      "outputs": []
    },
    {
      "cell_type": "markdown",
      "source": [
        "8. Сделайте поле `lag_price` - цена в предыдущем месяце. Если ее нет, оставьте поле пустым."
      ],
      "metadata": {
        "id": "AwObEvEQSdiX"
      }
    },
    {
      "cell_type": "code",
      "source": [
        "# пишите код здесь"
      ],
      "metadata": {
        "id": "ojGgmvpCSep3"
      },
      "execution_count": null,
      "outputs": []
    },
    {
      "cell_type": "markdown",
      "source": [
        "9. Создайте поле `is_price_up`, которое принимает значение `1`, если цена выросла по сравнению с предыдущим месяцем."
      ],
      "metadata": {
        "id": "ZQyDJMsESjMR"
      }
    },
    {
      "cell_type": "code",
      "source": [
        "# пишите код здесь"
      ],
      "metadata": {
        "id": "hw_6c3-VSjxQ"
      },
      "execution_count": null,
      "outputs": []
    }
  ]
}